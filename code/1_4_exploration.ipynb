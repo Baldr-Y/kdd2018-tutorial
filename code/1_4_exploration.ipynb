{
 "cells": [
  {
   "cell_type": "markdown",
   "metadata": {},
   "source": [
    "# Higher-Order Data Analytics for Temporal Network Data\n",
    "\n",
    "## 1.4 Exploration: Higher-order analysis of real-world pathway data\n",
    "\n",
    "**Ingo Scholtes**  \n",
    "Data Analytics Group  \n",
    "Department of Informatics (IfI)  \n",
    "University of Zurich  \n",
    "\n",
    "\n",
    "**August 22 2018**\n",
    "\n",
    "In the last (open-ended) exploration of this first tutorial session, you have the chance to use higher-order network analytics to study three real data sets for yourself: \n",
    "\n",
    "- Passenger itineraries constructed from London Metro Oystercard origin-destination data\n",
    "- Flight itineraries of US airline passengers\n",
    "- Wikipedia clickstream data\n",
    "\n",
    "We include the code to load these data sets in `pathpy`. Using these data and the methods introduced in the first tutorial session, you can now address the following problems (in ascending order of difficulty):\n",
    "\n",
    "- Generate higher-order visualisations of the different data sets and visually compare the graph layouts calculated at different order.\n",
    "- Use the higher-order framework to identify those paths of length k that show the most anomalous statistics (compared to a memoryless null model). Which are these paths and how can we interpret the result?\n",
    "- Compare the ranking of nodes in terms of centralities obtained at different orders k. How can we define a ground truth for this ranking. To what extent do the different rankings reproduce this ground truth?\n",
    "- Perform a spectral clustering based on the Laplacian of higher-order networks at different order. How does the clustering differ from a first-order clustering?\n",
    "\n",
    "You should see both the data sets as well as the questions as suggestions for your exploration. You are welcome to study other data sets or question instead. Just reach out to us if you encounter any problems. Feel free to contact me after the tutorial."
   ]
  },
  {
   "cell_type": "code",
   "execution_count": 3,
   "metadata": {},
   "outputs": [
    {
     "name": "stdout",
     "output_type": "stream",
     "text": [
      "2018-08-16 19:36:32 [Severity.INFO]\tReading ngram data ... \n",
      "2018-08-16 19:36:33 [Severity.INFO]\tfinished. Read 286810 paths with maximum length 13\n",
      "2018-08-16 19:36:33 [Severity.INFO]\tCalculating sub path statistics ... \n",
      "2018-08-16 19:36:34 [Severity.INFO]\tfinished.\n",
      "2018-08-16 19:36:34 [Severity.INFO]\tReading ngram data ... \n",
      "2018-08-16 19:36:34 [Severity.INFO]\tfinished. Read 51318 paths with maximum length 99\n",
      "2018-08-16 19:36:34 [Severity.INFO]\tCalculating sub path statistics ... \n",
      "2018-08-16 19:36:37 [Severity.INFO]\tfinished.\n",
      "2018-08-16 19:36:37 [Severity.INFO]\tReading edge list ... \n",
      "2018-08-16 19:36:37 [Severity.INFO]\tfinished.\n",
      "2018-08-16 19:36:37 [Severity.INFO]\tReading origin/destination statistics from file ...\n",
      "2018-08-16 19:36:38 [Severity.INFO]\tFinished.\n",
      "2018-08-16 19:36:54 [Severity.INFO]\tStarting origin destination path calculation ...\n",
      "2018-08-16 19:39:07 [Severity.INFO]\tfinished.\n"
     ]
    }
   ],
   "source": [
    "import pathpy as pp\n",
    "\n",
    "# Flight data  \n",
    "flight_paths = pp.Paths.read_file('../data/US_flights.ngram', frequency=False)\n",
    "\n",
    "# Clickstream, ignore a single path with more than 400 clicks\n",
    "clickstreams = pp.Paths.read_file('../data/wikipedia_clickstreams.ngram', frequency=False, max_ngram_length=100)\n",
    "\n",
    "# London Tube trips based on Oyster card checkin-checkouts\n",
    "tube_net  = pp.Network.read_file('../data/tube.edges', separator=';')\n",
    "od_stats = pp.path_extraction.read_origin_destination('../data/tube_od.csv', separator=';')\n",
    "tube_trips = pp.path_extraction.paths_from_origin_destination(od_stats, tube_net)"
   ]
  },
  {
   "cell_type": "code",
   "execution_count": null,
   "metadata": {},
   "outputs": [],
   "source": []
  }
 ],
 "metadata": {
  "kernelspec": {
   "display_name": "Python 3",
   "language": "python",
   "name": "python3"
  },
  "language_info": {
   "codemirror_mode": {
    "name": "ipython",
    "version": 3
   },
   "file_extension": ".py",
   "mimetype": "text/x-python",
   "name": "python",
   "nbconvert_exporter": "python",
   "pygments_lexer": "ipython3",
   "version": "3.5.5"
  }
 },
 "nbformat": 4,
 "nbformat_minor": 2
}

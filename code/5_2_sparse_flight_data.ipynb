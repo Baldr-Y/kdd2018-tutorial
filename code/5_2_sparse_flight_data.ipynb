{
 "cells": [
  {
   "cell_type": "markdown",
   "metadata": {},
   "source": [
    "## Sparse flight data\n",
    "\n",
    "A key question for the generation of sparse state networks is _how_ sparse. If we lump all state nodes with each physical node, we loose all higher-order information and may underfit. On the other hand, keeping all second-order state nodes may overfit.\n",
    "\n",
    "Here we will generate multiple sparse networks with different number of (lumped) state nodes and evaluate the result with Infomap"
   ]
  },
  {
   "cell_type": "markdown",
   "metadata": {},
   "source": [
    "### Generate training and validation sets\n",
    "To get a bigger network, merge the flight path data from the four quarters. But to evaluate the goodness of fit, split each path randomly in either a _training_ or a _validation_ set and write a path data file for each of the data set."
   ]
  },
  {
   "cell_type": "code",
   "execution_count": 1,
   "metadata": {},
   "outputs": [],
   "source": [
    "from random import random"
   ]
  },
  {
   "cell_type": "code",
   "execution_count": 2,
   "metadata": {},
   "outputs": [],
   "source": [
    "def generateData(inputFilenames):\n",
    "    \"\"\"Merge path data from inputFilenames and write to two path data files\n",
    "    for training and validation. Each path in the input data is selected by\n",
    "    random to be written to either the training or validation data file\"\"\"\n",
    "    data = { 'training': [], 'validation': [] }\n",
    "    # Read path data\n",
    "    for filename in inputFilenames:\n",
    "        print(\"Parsing paths from '{}'...\".format(filename))\n",
    "        with open(filename, mode='r') as infile:\n",
    "            # Skip heading\n",
    "            next(infile)\n",
    "            for row in infile:\n",
    "                if random() < 0.5:\n",
    "                    data['validation'].append(row)\n",
    "                else:\n",
    "                    data['training'].append(row)\n",
    "    # Write path data\n",
    "    for name, paths in data.items():\n",
    "        outFilename = \"../output/paths_{}.net\".format(name)\n",
    "        print(\"Writing {} paths to {}...\".format(len(paths), outFilename))\n",
    "        with open(outFilename, mode='w') as outfile:\n",
    "            outfile.write(\"*paths\\n\")\n",
    "            for p in paths:\n",
    "                outfile.write(p)"
   ]
  },
  {
   "cell_type": "code",
   "execution_count": 3,
   "metadata": {},
   "outputs": [
    {
     "name": "stdout",
     "output_type": "stream",
     "text": [
      "Parsing paths from '../data/air2015_1_paths.net'...\n",
      "Parsing paths from '../data/air2015_2_paths.net'...\n",
      "Parsing paths from '../data/air2015_3_paths.net'...\n",
      "Parsing paths from '../data/air2015_4_paths.net'...\n",
      "Writing 33397 paths to ../output/paths_training.net...\n",
      "Writing 33628 paths to ../output/paths_validation.net...\n"
     ]
    }
   ],
   "source": [
    "inputFilenames = [\"../data/air2015_{}_paths.net\".format(quarter) for quarter in [1,2,3,4]]\n",
    "generateData(inputFilenames)"
   ]
  },
  {
   "cell_type": "markdown",
   "metadata": {},
   "source": [
    "#### Generate state networks from paths"
   ]
  },
  {
   "cell_type": "code",
   "execution_count": 4,
   "metadata": {},
   "outputs": [],
   "source": [
    "import infomap"
   ]
  },
  {
   "cell_type": "code",
   "execution_count": 5,
   "metadata": {},
   "outputs": [],
   "source": [
    "def generateStateNetworkFromPaths(inputFilename, outputFilename, markovOrder):\n",
    "    network = infomap.Network(infomap.Config(\"--directed --path-markov-order {}\".format(markovOrder)))\n",
    "    network.readInputData(inputFilename)\n",
    "    network.writeStateNetwork(outputFilename)"
   ]
  },
  {
   "cell_type": "code",
   "execution_count": 6,
   "metadata": {},
   "outputs": [],
   "source": [
    "generateStateNetworkFromPaths(\"../output/paths_training.net\", \"../output/states_training_order_2.net\", 2)\n",
    "generateStateNetworkFromPaths(\"../output/paths_validation.net\", \"../output/states_validation_order_2.net\", 2)"
   ]
  },
  {
   "cell_type": "markdown",
   "metadata": {},
   "source": [
    "### Generate _sparse_ state networks"
   ]
  },
  {
   "cell_type": "code",
   "execution_count": 7,
   "metadata": {},
   "outputs": [],
   "source": [
    "import matplotlib.pyplot as plt\n",
    "import numpy as np\n",
    "from state_lumping_network import StateNetwork"
   ]
  },
  {
   "cell_type": "code",
   "execution_count": 8,
   "metadata": {},
   "outputs": [
    {
     "name": "stdout",
     "output_type": "stream",
     "text": [
      "Read state network from file '../output/states_training_order_2.net'...\n",
      " -> StateNetwork (1977 physical nodes, 15924 state nodes and 44867 links)\n"
     ]
    }
   ],
   "source": [
    "sparseNet = StateNetwork()\n",
    "sparseNet.readFromFile(\"../output/states_training_order_2.net\")"
   ]
  },
  {
   "cell_type": "code",
   "execution_count": 9,
   "metadata": {},
   "outputs": [
    {
     "name": "stdout",
     "output_type": "stream",
     "text": [
      "Original average entropy rate: 3.7389056651248334\n"
     ]
    }
   ],
   "source": [
    "h0 = sparseNet.calcEntropyRate()\n",
    "print(\"Original average entropy rate:\", h0)"
   ]
  },
  {
   "cell_type": "code",
   "execution_count": 10,
   "metadata": {},
   "outputs": [
    {
     "name": "stdout",
     "output_type": "stream",
     "text": [
      "Cluster state nodes...\n",
      "Generate lumped state network from clustering...\n",
      " -> 2276 state nodes and 17875 links in lumped network.\n",
      "Writing lumped state network to file '../output/states_training_lumped_0.net'...\n",
      "Cluster state nodes...\n",
      "Generate lumped state network from clustering...\n",
      " -> 2715 state nodes and 22400 links in lumped network.\n",
      "Writing lumped state network to file '../output/states_training_lumped_1.net'...\n",
      "Cluster state nodes...\n",
      "Generate lumped state network from clustering...\n",
      " -> 3177 state nodes and 26026 links in lumped network.\n",
      "Writing lumped state network to file '../output/states_training_lumped_2.net'...\n",
      "Cluster state nodes...\n",
      "Generate lumped state network from clustering...\n",
      " -> 3672 state nodes and 29315 links in lumped network.\n",
      "Writing lumped state network to file '../output/states_training_lumped_3.net'...\n",
      "Cluster state nodes...\n",
      "Generate lumped state network from clustering...\n",
      " -> 4197 state nodes and 31898 links in lumped network.\n",
      "Writing lumped state network to file '../output/states_training_lumped_4.net'...\n",
      "Cluster state nodes...\n",
      "Generate lumped state network from clustering...\n",
      " -> 4665 state nodes and 34429 links in lumped network.\n",
      "Writing lumped state network to file '../output/states_training_lumped_5.net'...\n",
      "Cluster state nodes...\n",
      "Generate lumped state network from clustering...\n",
      " -> 5156 state nodes and 36983 links in lumped network.\n",
      "Writing lumped state network to file '../output/states_training_lumped_6.net'...\n",
      "Cluster state nodes...\n",
      "Generate lumped state network from clustering...\n",
      " -> 5676 state nodes and 39396 links in lumped network.\n",
      "Writing lumped state network to file '../output/states_training_lumped_7.net'...\n",
      "Cluster state nodes...\n",
      "Generate lumped state network from clustering...\n",
      " -> 6150 state nodes and 42185 links in lumped network.\n",
      "Writing lumped state network to file '../output/states_training_lumped_8.net'...\n",
      "Cluster state nodes...\n",
      "Generate lumped state network from clustering...\n",
      " -> 6805 state nodes and 44867 links in lumped network.\n",
      "Writing lumped state network to file '../output/states_training_lumped_9.net'...\n"
     ]
    }
   ],
   "source": [
    "clusterRates = np.linspace(0.1, 1, 10)\n",
    "# clusterRates = [0.25, 0.5, 0.75]\n",
    "# clusterRates = [0.5]\n",
    "numStates = []\n",
    "entropyRate = []\n",
    "\n",
    "for i, clusterRate in enumerate(clusterRates):\n",
    "    sparseNet.clusterStateNodes(clusterRate=clusterRate)\n",
    "    s = sparseNet.numLumpedStateNodes()\n",
    "    h = sparseNet.calcLumpedEntropyRate()\n",
    "    sparseNet.writeLumpedStateNetwork(\"../output/states_training_lumped_{}.net\".format(i))\n",
    "    numStates.append(s)\n",
    "    entropyRate.append(h)"
   ]
  },
  {
   "cell_type": "markdown",
   "metadata": {},
   "source": [
    "#### How much information do we loose as we reduce the number of state nodes?"
   ]
  },
  {
   "cell_type": "code",
   "execution_count": 17,
   "metadata": {},
   "outputs": [
    {
     "data": {
      "image/png": "[encoded data removed]",
      "text/plain": [
       "<Figure size 432x288 with 1 Axes>"
      ]
     },
     "metadata": {},
     "output_type": "display_data"
    }
   ],
   "source": [
    "plt.plot(numStates, entropyRate, marker='o')\n",
    "plt.xlabel(\"number of lumped states\")\n",
    "plt.ylabel(\"entropy rate\")\n",
    "plt.axhline(y=h0, color='r', linestyle='-')\n",
    "# plt.axvline(x=sparseNet.numStateNodes(), color='r')\n",
    "plt.show()"
   ]
  },
  {
   "cell_type": "markdown",
   "metadata": {},
   "source": [
    "Note that the original number of state nodes (close to 16k) is much more than the maximum in the lumped state networks. This gap is due to the existence of dangling nodes wich are lumped implicitly."
   ]
  },
  {
   "cell_type": "markdown",
   "metadata": {},
   "source": [
    "### Validate with Infomap\n",
    "The goal here is to calculate the codelength for the validation network, given the different partitions found on the lumped training networks."
   ]
  },
  {
   "cell_type": "code",
   "execution_count": 12,
   "metadata": {},
   "outputs": [],
   "source": [
    "def partition(inputFilename):\n",
    "    im = infomap.Infomap(\"--directed\")\n",
    "    im.network().readInputData(inputFilename)\n",
    "    im.run()\n",
    "    print(\" -> Found {} top modules with codelength {}\".format(im.numTopModules(), im.codelength()))\n"
   ]
  },
  {
   "cell_type": "code",
   "execution_count": 13,
   "metadata": {},
   "outputs": [
    {
     "name": "stdout",
     "output_type": "stream",
     "text": [
      " -> Found 34 top modules with codelength 8.393094071847125\n"
     ]
    }
   ],
   "source": [
    "partition(\"../output/states_training_order_2.net\")"
   ]
  },
  {
   "cell_type": "code",
   "execution_count": 14,
   "metadata": {},
   "outputs": [
    {
     "name": "stdout",
     "output_type": "stream",
     "text": [
      " -> Found 34 top modules with codelength 8.386110701045006\n"
     ]
    }
   ],
   "source": [
    "partition(\"../output/states_validation_order_2.net\")"
   ]
  },
  {
   "cell_type": "code",
   "execution_count": 15,
   "metadata": {},
   "outputs": [
    {
     "name": "stdout",
     "output_type": "stream",
     "text": [
      " -> Found 8 top modules with codelength 7.477414824081122\n"
     ]
    }
   ],
   "source": [
    "partition(\"../output/states_training_lumped_0.net\")"
   ]
  },
  {
   "cell_type": "code",
   "execution_count": 16,
   "metadata": {},
   "outputs": [
    {
     "name": "stdout",
     "output_type": "stream",
     "text": [
      " -> Found 59 top modules with codelength 8.271783210227138\n"
     ]
    }
   ],
   "source": [
    "partition(\"../output/states_training_lumped_9.net\")"
   ]
  },
  {
   "cell_type": "code",
   "execution_count": null,
   "metadata": {},
   "outputs": [],
   "source": []
  }
 ],
 "metadata": {
  "kernelspec": {
   "display_name": "Python 3",
   "language": "python",
   "name": "python3"
  },
  "language_info": {
   "codemirror_mode": {
    "name": "ipython",
    "version": 3
   },
   "file_extension": ".py",
   "mimetype": "text/x-python",
   "name": "python",
   "nbconvert_exporter": "python",
   "pygments_lexer": "ipython3",
   "version": "3.6.5"
  }
 },
 "nbformat": 4,
 "nbformat_minor": 2
}

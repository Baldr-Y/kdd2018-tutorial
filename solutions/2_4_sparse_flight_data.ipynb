{
 "cells": [
  {
   "cell_type": "markdown",
   "metadata": {},
   "source": [
    "## Sparse flight data\n",
    "\n",
    "A key question for the generation of sparse state networks is _how_ sparse. If we lump all state nodes with each physical node, we lose all higher-order information and may underfit. On the other hand, keeping all second-order state nodes may overfit.\n",
    "\n",
    "In this tutorial we will generate second-order state networks from path data and from there generate multiple sparse networks with different number of (lumped) state nodes and evaluate the result with Infomap"
   ]
  },
  {
   "cell_type": "markdown",
   "metadata": {},
   "source": [
    "### Generate training and validation sets\n",
    "To get a bigger network, we can merge the flight path data from the four quarters (`\"data/air2015_{q}_paths.net\" for q in [1,2,3,4]`). But to evaluate the goodness of fit, we can split each path randomly in either a _training_ or a _validation_ set and write a path data file for each of the data set.\n",
    "\n",
    "**TODO:**\n",
    "- Write a function that merges all paths of the year and writes it to a _training_ paths file with 50% chance and to a _validation_ paths file otherwise. Skip the '*vertices' section"
   ]
  },
  {
   "cell_type": "code",
   "execution_count": 1,
   "metadata": {},
   "outputs": [
    {
     "name": "stdout",
     "output_type": "stream",
     "text": [
      "Parsing paths from '../data/air2015_1_paths.net'...\n",
      "Parsing paths from '../data/air2015_2_paths.net'...\n",
      "Parsing paths from '../data/air2015_3_paths.net'...\n",
      "Parsing paths from '../data/air2015_4_paths.net'...\n",
      "-> Writing 33347 paths to ../output/paths_training.net...\n",
      "-> Writing 33678 paths to ../output/paths_validation.net...\n"
     ]
    }
   ],
   "source": [
    "from random import random\n",
    "\n",
    "def generateData(inputFilenames):\n",
    "    \"\"\"Merge path data from inputFilenames and write to two path data files\n",
    "    for training and validation. Each path in the input data is selected by\n",
    "    random to be written to either the training or validation data file\"\"\"\n",
    "    data = { 'training': [], 'validation': [] }\n",
    "    # Read path data\n",
    "    for filename in inputFilenames:\n",
    "        print(\"Parsing paths from '{}'...\".format(filename))\n",
    "        with open(filename, mode='r') as infile:\n",
    "            isPath = False\n",
    "            for row in infile:\n",
    "                if not isPath and row[:6] == \"*paths\":\n",
    "                    isPath = True\n",
    "                    continue\n",
    "                if not isPath:\n",
    "                    continue\n",
    "                if random() < 0.5:\n",
    "                    data['validation'].append(row)\n",
    "                else:\n",
    "                    data['training'].append(row)\n",
    "    # Write path data\n",
    "    for name, paths in data.items():\n",
    "        outFilename = \"../output/paths_{}.net\".format(name)\n",
    "        print(\"-> Writing {} paths to {}...\".format(len(paths), outFilename))\n",
    "        with open(outFilename, mode='w') as outfile:\n",
    "            outfile.write(\"*paths\\n\")\n",
    "            for p in paths:\n",
    "                outfile.write(p)\n",
    "\n",
    "inputFilenames = [\"../data/air2015_{}_paths.net\".format(quarter) for quarter in [1,2,3,4]]\n",
    "generateData(inputFilenames)"
   ]
  },
  {
   "cell_type": "markdown",
   "metadata": {},
   "source": [
    "#### Generate state networks from paths\n",
    "\n",
    "**TODO:**\n",
    "- Use Infomap to generate second-order state networks from the two paths data files."
   ]
  },
  {
   "cell_type": "code",
   "execution_count": 2,
   "metadata": {},
   "outputs": [
    {
     "name": "stdout",
     "output_type": "stream",
     "text": [
      "Reading ../output/paths_training.net...\n",
      "Writing ../output/states_training_order_2.net...\n",
      "Reading ../output/paths_validation.net...\n",
      "Writing ../output/states_validation_order_2.net...\n"
     ]
    }
   ],
   "source": [
    "import infomap\n",
    "def generateStateNetworkFromPaths(inputFilename, outputFilename, markovOrder):\n",
    "    network = infomap.Network(\"--directed --path-markov-order {}\".format(markovOrder))\n",
    "    print(\"Reading {}...\".format(inputFilename))\n",
    "    network.readInputData(inputFilename)\n",
    "    print(\"Writing {}...\".format(outputFilename))\n",
    "    network.writeStateNetwork(outputFilename)\n",
    "\n",
    "generateStateNetworkFromPaths(\"../output/paths_training.net\", \"../output/states_training_order_2.net\", 2)\n",
    "generateStateNetworkFromPaths(\"../output/paths_validation.net\", \"../output/states_validation_order_2.net\", 2)"
   ]
  },
  {
   "cell_type": "markdown",
   "metadata": {},
   "source": [
    "### Generate _sparse_ state networks\n",
    "\n",
    "Here we will generate multiple lumped state networks with different amount of state nodes. A simple way is to parameterise this with a cluster rate $r$ going from 0.1 to 1, where `n_clusters = max(1, int(r * numStateNodes)`. For convenience, you can just send in the argument `clusterRate` to `clusterStateNodes` to achieve this, instead of the cluster function in the previous tutorial.\n",
    "\n",
    "**TODO:**\n",
    "- Read in the training network with `StateNetwork`\n",
    "- Calculate entropy rate\n",
    "- Cluster the network for all cluster rates $r$ in for example `np.linspace(0.1, 1, 10)`.\n",
    "- Save the number of lumped state nodes and the lumped entropy rate"
   ]
  },
  {
   "cell_type": "code",
   "execution_count": 3,
   "metadata": {},
   "outputs": [
    {
     "name": "stdout",
     "output_type": "stream",
     "text": [
      "Read state network from file '../output/states_training_order_2.net'...\n",
      " -> StateNetwork (347 physical nodes, 5181 state nodes and 20131 links)\n",
      "\n",
      "Original average entropy rate: 3.9017834586546716\n",
      "Original number of state nodes: 5181\n",
      "Cluster state nodes...\n",
      "Generate lumped state network from clustering...\n",
      " -> 766 state nodes and 7846 links in lumped network.\n",
      "Writing lumped state network to file '../output/states_training_lumped_0.net'...\n",
      "Cluster state nodes...\n",
      "Generate lumped state network from clustering...\n",
      " -> 1045 state nodes and 10590 links in lumped network.\n",
      "Writing lumped state network to file '../output/states_training_lumped_1.net'...\n",
      "Cluster state nodes...\n",
      "Generate lumped state network from clustering...\n",
      " -> 1340 state nodes and 12404 links in lumped network.\n",
      "Writing lumped state network to file '../output/states_training_lumped_2.net'...\n",
      "Cluster state nodes...\n",
      "Generate lumped state network from clustering...\n",
      " -> 1658 state nodes and 13794 links in lumped network.\n",
      "Writing lumped state network to file '../output/states_training_lumped_3.net'...\n",
      "Cluster state nodes...\n",
      "Generate lumped state network from clustering...\n",
      " -> 2003 state nodes and 15239 links in lumped network.\n",
      "Writing lumped state network to file '../output/states_training_lumped_4.net'...\n",
      "Cluster state nodes...\n",
      "Generate lumped state network from clustering...\n",
      " -> 2306 state nodes and 16417 links in lumped network.\n",
      "Writing lumped state network to file '../output/states_training_lumped_5.net'...\n",
      "Cluster state nodes...\n",
      "Generate lumped state network from clustering...\n",
      " -> 2637 state nodes and 17635 links in lumped network.\n",
      "Writing lumped state network to file '../output/states_training_lumped_6.net'...\n",
      "Cluster state nodes...\n",
      "Generate lumped state network from clustering...\n",
      " -> 2983 state nodes and 18727 links in lumped network.\n",
      "Writing lumped state network to file '../output/states_training_lumped_7.net'...\n",
      "Cluster state nodes...\n",
      "Generate lumped state network from clustering...\n",
      " -> 3280 state nodes and 19556 links in lumped network.\n",
      "Writing lumped state network to file '../output/states_training_lumped_8.net'...\n",
      "Cluster state nodes...\n",
      "Generate lumped state network from clustering...\n",
      " -> 3740 state nodes and 20131 links in lumped network.\n",
      "Writing lumped state network to file '../output/states_training_lumped_9.net'...\n"
     ]
    }
   ],
   "source": [
    "import matplotlib.pyplot as plt\n",
    "import numpy as np\n",
    "from state_lumping_network import StateNetwork\n",
    "\n",
    "sparseNet = StateNetwork()\n",
    "sparseNet.readFromFile(\"../output/states_training_order_2.net\")\n",
    "\n",
    "h0 = sparseNet.calcEntropyRate()\n",
    "print(\"\\nOriginal average entropy rate:\", h0)\n",
    "print(\"Original number of state nodes:\", sparseNet.numStateNodes())\n",
    "\n",
    "clusterRates = np.linspace(0.1, 1, 10)\n",
    "numStates = []\n",
    "entropyRate = []\n",
    "\n",
    "for i, clusterRate in enumerate(clusterRates):\n",
    "    sparseNet.clusterStateNodes(clusterRate=clusterRate)\n",
    "    s = sparseNet.numLumpedStateNodes()\n",
    "    h = sparseNet.calcLumpedEntropyRate()\n",
    "    sparseNet.writeLumpedStateNetwork(\"../output/states_training_lumped_{}.net\".format(i))\n",
    "    numStates.append(s)\n",
    "    entropyRate.append(h)"
   ]
  },
  {
   "cell_type": "markdown",
   "metadata": {},
   "source": [
    "#### How much information do we lose as we reduce the number of state nodes?\n",
    "\n",
    "**TODO:**\n",
    "- Plot the entropy rate against the number of state nodes\n",
    "- Check that the entropy rates approaches the original one and coincides at cluster rate $r = 1$"
   ]
  },
  {
   "cell_type": "code",
   "execution_count": 4,
   "metadata": {},
   "outputs": [
    {
     "data": {
      "image/png": "[encoded data removed]",
      "text/plain": [
       "<Figure size 432x288 with 1 Axes>"
      ]
     },
     "metadata": {},
     "output_type": "display_data"
    }
   ],
   "source": [
    "plt.plot(numStates, entropyRate, marker='o')\n",
    "plt.xlabel(\"number of lumped states\")\n",
    "plt.ylabel(\"entropy rate\")\n",
    "plt.axhline(y=h0, color='r', linestyle='-')\n",
    "# plt.axvline(x=sparseNet.numStateNodes(), color='r')\n",
    "plt.show()"
   ]
  },
  {
   "cell_type": "markdown",
   "metadata": {},
   "source": [
    "Note that the original number of state nodes can be much larger than the maximum in the lumped state networks due to dangling nodes which are lumped implicitly."
   ]
  },
  {
   "cell_type": "markdown",
   "metadata": {},
   "source": [
    "### Validate with Infomap\n",
    "The goal here is to calculate the codelength for the validation network, given the different partitions found on the lumped training networks.\n",
    "\n",
    "**TODO:**\n",
    "- Run Infomap on all lumped state networks and write a `.tree` file for each and store codelength\n",
    "- Run Infomap on the validation network but with cluster data from external file for all `.tree` files generated from the lumped networks and store the codelength\n",
    "- Plot the training and validation codelengths against the number of state nodes and check if there is an optimum that balances underfit and overfit"
   ]
  },
  {
   "cell_type": "code",
   "execution_count": 8,
   "metadata": {},
   "outputs": [
    {
     "name": "stdout",
     "output_type": "stream",
     "text": [
      "0: training codelength: 7.533148869755817, validation codelength: 11.851993109397927\n",
      "1: training codelength: 7.837032001250988, validation codelength: 12.15774424025452\n",
      "2: training codelength: 7.71939543544182, validation codelength: 12.206662826848245\n",
      "3: training codelength: 7.681282530565858, validation codelength: 12.181450386925217\n",
      "4: training codelength: 7.521233263418126, validation codelength: 12.178229398604584\n",
      "5: training codelength: 7.434101287706762, validation codelength: 12.216260538044706\n",
      "6: training codelength: 7.370470771645454, validation codelength: 12.226990027031295\n",
      "7: training codelength: 7.372354482219369, validation codelength: 12.271065992216258\n",
      "8: training codelength: 7.345715852319219, validation codelength: 12.241638494229113\n",
      "9: training codelength: 7.3334222426026345, validation codelength: 12.26451108563029\n"
     ]
    }
   ],
   "source": [
    "trainingCodelengths = []\n",
    "validationCodelengths = []\n",
    "\n",
    "def calcCodelength(inputFilename, cluInputFile, flags=\"--directed --two-level\"):\n",
    "    im = infomap.Infomap(\"{} --no-infomap --input {} --cluster-data {}\".format(flags, inputFilename, cluInputFile))\n",
    "    im.run()\n",
    "    return im.codelength()\n",
    "\n",
    "def partition(inputFilename, cluOutputFile=None, flags=\"--directed --two-level\"):\n",
    "    im = infomap.Infomap(flags)\n",
    "    im.network().readInputData(inputFilename)\n",
    "    im.run()\n",
    "    if cluOutputFile:\n",
    "        # Use second argument True to write the state-level clustering\n",
    "        im.writeClu(cluOutputFile, True) # Second parameter shows States\n",
    "    return im.codelength()\n",
    "\n",
    "\n",
    "for i, clusterRate in enumerate(clusterRates):\n",
    "    trainingCodelength = partition(\"../output/states_training_lumped_{}.net\".format(i),\n",
    "             \"../output/states_training_lumped_{}.clu\".format(i))\n",
    "    validationCodelength = calcCodelength(\"../output/states_validation_order_2.net\",\n",
    "             \"../output/states_training_lumped_{}.clu\".format(i))\n",
    "    trainingCodelengths.append(trainingCodelength)\n",
    "    validationCodelengths.append(validationCodelength)\n",
    "    print(\"{}: training codelength: {}, validation codelength: {}\".format(i, trainingCodelength, validationCodelength))\n",
    "    \n",
    "\n"
   ]
  },
  {
   "cell_type": "code",
   "execution_count": 10,
   "metadata": {},
   "outputs": [
    {
     "data": {
      "image/png": "[encoded data removed]",
      "text/plain": [
       "<Figure size 432x288 with 1 Axes>"
      ]
     },
     "metadata": {},
     "output_type": "display_data"
    }
   ],
   "source": [
    "plt.plot(numStates, trainingCodelengths, marker='o')\n",
    "plt.plot(numStates, validationCodelengths, marker='x')\n",
    "plt.legend([\"training\", \"validation\"])\n",
    "plt.xlabel(\"number of lumped states\")\n",
    "plt.ylabel(\"codelength\")\n",
    "plt.ylim(ymin=4)\n",
    "plt.show()"
   ]
  }
 ],
 "metadata": {
  "kernelspec": {
   "display_name": "Python 3",
   "language": "python",
   "name": "python3"
  },
  "language_info": {
   "codemirror_mode": {
    "name": "ipython",
    "version": 3
   },
   "file_extension": ".py",
   "mimetype": "text/x-python",
   "name": "python",
   "nbconvert_exporter": "python",
   "pygments_lexer": "ipython3",
   "version": "3.6.5"
  }
 },
 "nbformat": 4,
 "nbformat_minor": 2
}

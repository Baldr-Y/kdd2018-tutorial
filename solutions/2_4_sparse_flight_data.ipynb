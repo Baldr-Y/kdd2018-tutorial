{
 "cells": [
  {
   "cell_type": "markdown",
   "metadata": {},
   "source": [
    "## Sparse flight data\n",
    "\n",
    "A key question for the generation of sparse state networks is _how_ sparse. If we lump all state nodes with each physical node, we lose all higher-order information and may underfit. On the other hand, keeping all second-order state nodes may overfit.\n",
    "\n",
    "In this tutorial we will generate second-order state networks from path data and from there generate multiple sparse networks with different number of (lumped) state nodes and evaluate the result with Infomap"
   ]
  },
  {
   "cell_type": "markdown",
   "metadata": {},
   "source": [
    "### Generate training and validation sets\n",
    "To get a bigger network, we can merge the flight path data from the four quarters (`\"data/air2015_{q}_paths.net\" for q in [1,2,3,4]`). But to evaluate the goodness of fit, we can split each path randomly in either a _training_ or a _validation_ set and write a path data file for each of the data set.\n",
    "\n",
    "**TODO:**\n",
    "- Write a function that merges all paths of the year and writes it to a _training_ paths file with 50% chance and to a _validation_ paths file otherwise."
   ]
  },
  {
   "cell_type": "code",
   "execution_count": 1,
   "metadata": {},
   "outputs": [
    {
     "name": "stdout",
     "output_type": "stream",
     "text": [
      "Parsing paths from '../data/air2015_1_paths.net'...\n",
      "Parsing paths from '../data/air2015_2_paths.net'...\n",
      "Parsing paths from '../data/air2015_3_paths.net'...\n",
      "Parsing paths from '../data/air2015_4_paths.net'...\n",
      "Writing 33613 paths to ../output/paths_training.net...\n",
      "Writing 33412 paths to ../output/paths_validation.net...\n"
     ]
    }
   ],
   "source": [
    "from random import random\n",
    "\n",
    "def generateData(inputFilenames):\n",
    "    \"\"\"Merge path data from inputFilenames and write to two path data files\n",
    "    for training and validation. Each path in the input data is selected by\n",
    "    random to be written to either the training or validation data file\"\"\"\n",
    "    data = { 'training': [], 'validation': [] }\n",
    "    # Read path data\n",
    "    for filename in inputFilenames:\n",
    "        print(\"Parsing paths from '{}'...\".format(filename))\n",
    "        with open(filename, mode='r') as infile:\n",
    "            # Skip heading\n",
    "            next(infile)\n",
    "            for row in infile:\n",
    "                if random() < 0.5:\n",
    "                    data['validation'].append(row)\n",
    "                else:\n",
    "                    data['training'].append(row)\n",
    "    # Write path data\n",
    "    for name, paths in data.items():\n",
    "        outFilename = \"../output/paths_{}.net\".format(name)\n",
    "        print(\"Writing {} paths to {}...\".format(len(paths), outFilename))\n",
    "        with open(outFilename, mode='w') as outfile:\n",
    "            outfile.write(\"*paths\\n\")\n",
    "            for p in paths:\n",
    "                outfile.write(p)\n",
    "\n",
    "inputFilenames = [\"../data/air2015_{}_paths.net\".format(quarter) for quarter in [1,2,3,4]]\n",
    "generateData(inputFilenames)"
   ]
  },
  {
   "cell_type": "markdown",
   "metadata": {},
   "source": [
    "#### Generate state networks from paths\n",
    "\n",
    "**TODO:**\n",
    "- Use Infomap to generate second-order state networks from the two paths data files."
   ]
  },
  {
   "cell_type": "code",
   "execution_count": 2,
   "metadata": {},
   "outputs": [],
   "source": [
    "import infomap\n",
    "\n",
    "def generateStateNetworkFromPaths(inputFilename, outputFilename, markovOrder):\n",
    "    network = infomap.Network(infomap.Config(\"--directed --path-markov-order {}\".format(markovOrder)))\n",
    "    network.readInputData(inputFilename)\n",
    "    network.writeStateNetwork(outputFilename)\n",
    "\n",
    "generateStateNetworkFromPaths(\"../output/paths_training.net\", \"../output/states_training_order_2.net\", 2)\n",
    "generateStateNetworkFromPaths(\"../output/paths_validation.net\", \"../output/states_validation_order_2.net\", 2)"
   ]
  },
  {
   "cell_type": "markdown",
   "metadata": {},
   "source": [
    "### Generate _sparse_ state networks\n",
    "\n",
    "Here we will generate multiple lumped state networks with different amount of state nodes. A simple way is to parameterise this with a cluster rate $r$ going from 0.1 to 1, where `n_clusters = max(1, int(r * numStateNodes)`. For convenience, you can just send in the argument `clusterRate` to `clusterStateNodes` to achieve this, instead of the cluster function in the previous tutorial.\n",
    "\n",
    "**TODO:**\n",
    "- Read in the training network with `StateNetwork`\n",
    "- Calculate entropy rate\n",
    "- Cluster the network for all cluster rates $r$ in for example `np.linspace(0.1, 1, 10)`.\n",
    "- Save the number of lumped state nodes and the lumped entropy rate"
   ]
  },
  {
   "cell_type": "code",
   "execution_count": 3,
   "metadata": {},
   "outputs": [
    {
     "name": "stdout",
     "output_type": "stream",
     "text": [
      "Read state network from file '../output/states_training_order_2.net'...\n",
      " -> StateNetwork (1992 physical nodes, 16057 state nodes and 44961 links)\n",
      "Original average entropy rate: 3.7369461686354866\n",
      "Cluster state nodes...\n",
      "Generate lumped state network from clustering...\n",
      " -> 2298 state nodes and 18406 links in lumped network.\n",
      "Writing lumped state network to file '../output/states_training_lumped_0.net'...\n",
      "Cluster state nodes...\n",
      "Generate lumped state network from clustering...\n",
      " -> 2742 state nodes and 22761 links in lumped network.\n",
      "Writing lumped state network to file '../output/states_training_lumped_1.net'...\n",
      "Cluster state nodes...\n",
      "Generate lumped state network from clustering...\n",
      " -> 3199 state nodes and 26490 links in lumped network.\n",
      "Writing lumped state network to file '../output/states_training_lumped_2.net'...\n",
      "Cluster state nodes...\n",
      "Generate lumped state network from clustering...\n",
      " -> 3700 state nodes and 29753 links in lumped network.\n",
      "Writing lumped state network to file '../output/states_training_lumped_3.net'...\n",
      "Cluster state nodes...\n",
      "Generate lumped state network from clustering...\n",
      " -> 4223 state nodes and 32210 links in lumped network.\n",
      "Writing lumped state network to file '../output/states_training_lumped_4.net'...\n",
      "Cluster state nodes...\n",
      "Generate lumped state network from clustering...\n",
      " -> 4686 state nodes and 34517 links in lumped network.\n",
      "Writing lumped state network to file '../output/states_training_lumped_5.net'...\n",
      "Cluster state nodes...\n",
      "Generate lumped state network from clustering...\n",
      " -> 5186 state nodes and 36988 links in lumped network.\n",
      "Writing lumped state network to file '../output/states_training_lumped_6.net'...\n",
      "Cluster state nodes...\n",
      "Generate lumped state network from clustering...\n",
      " -> 5700 state nodes and 39628 links in lumped network.\n",
      "Writing lumped state network to file '../output/states_training_lumped_7.net'...\n",
      "Cluster state nodes...\n",
      "Generate lumped state network from clustering...\n",
      " -> 6173 state nodes and 42258 links in lumped network.\n",
      "Writing lumped state network to file '../output/states_training_lumped_8.net'...\n",
      "Cluster state nodes...\n",
      "Generate lumped state network from clustering...\n",
      " -> 6833 state nodes and 44961 links in lumped network.\n",
      "Writing lumped state network to file '../output/states_training_lumped_9.net'...\n"
     ]
    }
   ],
   "source": [
    "import matplotlib.pyplot as plt\n",
    "import numpy as np\n",
    "from state_lumping_network import StateNetwork\n",
    "\n",
    "sparseNet = StateNetwork()\n",
    "sparseNet.readFromFile(\"../output/states_training_order_2.net\")\n",
    "\n",
    "h0 = sparseNet.calcEntropyRate()\n",
    "print(\"Original average entropy rate:\", h0)\n",
    "\n",
    "clusterRates = np.linspace(0.1, 1, 10)\n",
    "# clusterRates = [0.25, 0.5, 0.75]\n",
    "# clusterRates = [0.5]\n",
    "numStates = []\n",
    "entropyRate = []\n",
    "\n",
    "for i, clusterRate in enumerate(clusterRates):\n",
    "    sparseNet.clusterStateNodes(clusterRate=clusterRate)\n",
    "    s = sparseNet.numLumpedStateNodes()\n",
    "    h = sparseNet.calcLumpedEntropyRate()\n",
    "    sparseNet.writeLumpedStateNetwork(\"../output/states_training_lumped_{}.net\".format(i))\n",
    "    numStates.append(s)\n",
    "    entropyRate.append(h)"
   ]
  },
  {
   "cell_type": "markdown",
   "metadata": {},
   "source": [
    "#### How much information do we lose as we reduce the number of state nodes?\n",
    "\n",
    "**TODO:**\n",
    "- Plot the entropy rate against the number of state nodes\n",
    "- Check that the entropy rates approaches the original one and coincides at cluster rate $r = 1$"
   ]
  },
  {
   "cell_type": "code",
   "execution_count": 4,
   "metadata": {},
   "outputs": [
    {
     "data": {
      "image/png": "[encoded data removed]",
      "text/plain": [
       "<Figure size 432x288 with 1 Axes>"
      ]
     },
     "metadata": {},
     "output_type": "display_data"
    }
   ],
   "source": [
    "plt.plot(numStates, entropyRate, marker='o')\n",
    "plt.xlabel(\"number of lumped states\")\n",
    "plt.ylabel(\"entropy rate\")\n",
    "plt.axhline(y=h0, color='r', linestyle='-')\n",
    "# plt.axvline(x=sparseNet.numStateNodes(), color='r')\n",
    "plt.show()"
   ]
  },
  {
   "cell_type": "markdown",
   "metadata": {},
   "source": [
    "Note that the original number of state nodes (close to 16k) is much more than the maximum in the lumped state networks. This gap is due to the existence of dangling nodes wich are lumped implicitly."
   ]
  },
  {
   "cell_type": "markdown",
   "metadata": {},
   "source": [
    "### Validate with Infomap\n",
    "The goal here is to calculate the codelength for the validation network, given the different partitions found on the lumped training networks.\n",
    "\n",
    "**TODO:**\n",
    "- Run Infomap on all lumped state networks and write a `.tree` file for each and store codelength\n",
    "- Run Infomap on the validation network but with cluster data from external file for all `.tree` files generated from the lumped networks and store the codelength\n",
    "- Plot the training and validation codelengths against the number of state nodes and check if there is an optimum that balances underfit and overfit"
   ]
  }
 ],
 "metadata": {
  "kernelspec": {
   "display_name": "Python 3",
   "language": "python",
   "name": "python3"
  },
  "language_info": {
   "codemirror_mode": {
    "name": "ipython",
    "version": 3
   },
   "file_extension": ".py",
   "mimetype": "text/x-python",
   "name": "python",
   "nbconvert_exporter": "python",
   "pygments_lexer": "ipython3",
   "version": "3.6.5"
  }
 },
 "nbformat": 4,
 "nbformat_minor": 2
}

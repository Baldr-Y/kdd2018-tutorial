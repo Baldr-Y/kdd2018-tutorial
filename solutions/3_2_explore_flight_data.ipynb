{
 "cells": [
  {
   "cell_type": "markdown",
   "metadata": {},
   "source": [
    "# Mapping quarterly flight path data\n",
    "Here we make use public data from the Airline Origin and Destination Survey (DB1B) from Bureau of Transportation Statistics (transtats.bts.gov). See https://github.com/mapequation/airline-data for scripts to download and generate this data.\n",
    "\n",
    "Path data for this tutorial is available on `data/air2015_{q}_paths.net` for each q in [1,2,3,4].\n",
    "**TODO:**\n",
    "- Check how one of those files look like (Hint: Use can use `!head [file]` to list the first rows of a file)"
   ]
  },
  {
   "cell_type": "code",
   "execution_count": 2,
   "metadata": {},
   "outputs": [
    {
     "name": "stdout",
     "output_type": "stream",
     "text": [
      "*paths\n",
      "11618 11618 11057 11617 11057 22\n",
      "11618 11618 11057 10994 11057 47\n",
      "11618 11618 11057 12323 11057 52\n",
      "11618 11618 11057 13495 11057 82\n",
      "11618 11618 11057 15304 11057 55\n",
      "11697 11697 11057 14122 11057 27\n",
      "12451 12451 11057 13931 11057 29\n",
      "12451 12451 11057 14524 11057 21\n",
      "12953 12953 11057 13495 11057 75\n"
     ]
    }
   ],
   "source": [
    "!head ../data/air2015_1_paths.net"
   ]
  },
  {
   "cell_type": "markdown",
   "metadata": {},
   "source": [
    "## Generate state networks of first and second order\n",
    "\n",
    "**TODO:**\n",
    "- Import infomap\n",
    "- Write a function to generate a state network of specified Markov order from path data and write to output dir\n",
    "- Generate first and second order state networks for all four quarters"
   ]
  },
  {
   "cell_type": "code",
   "execution_count": 1,
   "metadata": {},
   "outputs": [],
   "source": [
    "import infomap"
   ]
  },
  {
   "cell_type": "code",
   "execution_count": 3,
   "metadata": {},
   "outputs": [],
   "source": [
    "def generateStateNetworkFromPaths(inputFilename, outputFilename, markovOrder):\n",
    "    network = infomap.Network(infomap.Config(\"--directed --path-markov-order {}\".format(markovOrder)))\n",
    "    network.readInputData(inputFilename)\n",
    "    network.writeStateNetwork(outputFilename)"
   ]
  },
  {
   "cell_type": "code",
   "execution_count": 4,
   "metadata": {},
   "outputs": [],
   "source": [
    "for quarter in [1,2,3,4]:\n",
    "    inputFilename = \"../data/air2015_{}_paths.net\".format(quarter)\n",
    "    for order in [1,2]:\n",
    "        outputFilename = \"../output/air2015_{}_order_{}.net\".format(quarter, order)\n",
    "        generateStateNetworkFromPaths(inputFilename, outputFilename, order)"
   ]
  },
  {
   "cell_type": "markdown",
   "metadata": {},
   "source": [
    "## Mapping change in first-order networks with Alluvial Diagram\n",
    "\n",
    "![alluvial-diagram](http://www.mapequation.org/assets/img/neuroAlluvial2001-2007.svg)\n",
    "\n",
    "\n",
    "**TODO:**\n",
    "- Write a function that takes an input network filename, clusters the network and writes a `.map` file\n",
    "- Generate `.map` files for all four first-order state networks\n",
    "- Load the `.map` files into the [Alluvial Generator](http://www.mapequation.org/apps/MapGenerator.html) and explore the modular structure over time"
   ]
  },
  {
   "cell_type": "code",
   "execution_count": 12,
   "metadata": {},
   "outputs": [],
   "source": [
    "def createMap(inputFilename, flags = \"--directed\"):\n",
    "    print(\"Cluster '{}'...\".format(inputFilename))\n",
    "    name = inputFilename.rsplit(\".\", maxsplit=1)[0].split('/')[-1]\n",
    "    infomap1 = infomap.Infomap(flags)\n",
    "    infomap1.network().readInputData(inputFilename)\n",
    "    infomap1.run()\n",
    "    print(\" -> Found {} top modules with codelength {}\".format(infomap1.numTopModules(), infomap1.codelength()))\n",
    "    mapFilename = \"../output/{}.map\".format(name)\n",
    "    infomap1.writeMap(mapFilename)\n",
    "    print(\" -> Wrote .map file to '{}'\".format(mapFilename))"
   ]
  },
  {
   "cell_type": "code",
   "execution_count": 13,
   "metadata": {},
   "outputs": [
    {
     "name": "stdout",
     "output_type": "stream",
     "text": [
      "Cluster '../output/air2015_1_order_1.net'...\n",
      " -> Found 45 top modules with codelength 7.024148309791347\n",
      " -> Wrote .map file to '../output/air2015_1_order_1.map'\n",
      "Cluster '../output/air2015_2_order_1.net'...\n",
      " -> Found 26 top modules with codelength 7.050423869552679\n",
      " -> Wrote .map file to '../output/air2015_2_order_1.map'\n",
      "Cluster '../output/air2015_3_order_1.net'...\n",
      " -> Found 2 top modules with codelength 7.109011698696878\n",
      " -> Wrote .map file to '../output/air2015_3_order_1.map'\n",
      "Cluster '../output/air2015_4_order_1.net'...\n",
      " -> Found 18 top modules with codelength 7.050762828416845\n",
      " -> Wrote .map file to '../output/air2015_4_order_1.map'\n"
     ]
    }
   ],
   "source": [
    "for quarter in [1,2,3,4]:\n",
    "    inputFilename = \"../output/air2015_{}_order_1.net\".format(quarter)\n",
    "    createMap(inputFilename)"
   ]
  },
  {
   "cell_type": "markdown",
   "metadata": {},
   "source": [
    "### No structure in first-order networks?\n",
    "In first-order, the network appears too well connected for any modular structure to be revealed. That can be solved in the second-order networks where physical nodes can have overlapping modules. But we may uncover some modular structure even in the first-order networks by scaling down the markov-time to increase the cost of moving between clusters.\n",
    "\n",
    "#### Reveal first-order structure in tightly connected networks using Markov time\n",
    "**TODO:**\n",
    "- Modify the `.map` generating method above to take Infomap flags as input\n",
    "- Re-run with `--markov-time 0.8`\n",
    "- Checkout the changes in the Alluvial Generator"
   ]
  },
  {
   "cell_type": "code",
   "execution_count": 14,
   "metadata": {},
   "outputs": [
    {
     "name": "stdout",
     "output_type": "stream",
     "text": [
      "Cluster '../output/air2015_1_order_1.net'...\n",
      " -> Found 1008 top modules with codelength 6.4687302440799215\n",
      " -> Wrote .map file to '../output/air2015_1_order_1.map'\n",
      "Cluster '../output/air2015_2_order_1.net'...\n",
      " -> Found 4 top modules with codelength 6.51775055014058\n",
      " -> Wrote .map file to '../output/air2015_2_order_1.map'\n",
      "Cluster '../output/air2015_3_order_1.net'...\n",
      " -> Found 1061 top modules with codelength 6.555623121611502\n",
      " -> Wrote .map file to '../output/air2015_3_order_1.map'\n",
      "Cluster '../output/air2015_4_order_1.net'...\n",
      " -> Found 10 top modules with codelength 6.4954555483463645\n",
      " -> Wrote .map file to '../output/air2015_4_order_1.map'\n"
     ]
    }
   ],
   "source": [
    "for quarter in [1,2,3,4]:\n",
    "    inputFilename = \"../output/air2015_{}_order_1.net\".format(quarter)\n",
    "    createMap(inputFilename, flags=\"--directed --markov-time 0.8\")"
   ]
  },
  {
   "cell_type": "markdown",
   "metadata": {},
   "source": [
    "## Mapping second-order networks\n",
    "The current Alluvial Generator doesn't support overlapping or multi-level modular structure. However, we can explore such networks individually using the [Network Navigator](http://navigator.mapequation.org). It uses the `.ftree` format as input.\n",
    "\n",
    "![Network Navigator](http://www.mapequation.org/assets/img/InfomapNetworkNavigator.png)\n",
    "\n",
    "**TODO:**\n",
    "- Write a function that takes an input network filename, clusters the network and writes a `.ftree` file\n",
    "- Generate `.ftree` files for at least one second-order state networks\n",
    "- Load an `.ftree` file into the [Network Navigator](http://navigator.mapequation.org) and explore the second-order hierarchical structure interactively."
   ]
  },
  {
   "cell_type": "code",
   "execution_count": 21,
   "metadata": {},
   "outputs": [],
   "source": [
    "def createFlowTree(inputFilename, flags = \"--directed\"):\n",
    "    print(\"Cluster '{}'...\".format(inputFilename))\n",
    "    name = inputFilename.rsplit(\".\", maxsplit=1)[0].split('/')[-1]\n",
    "    infomap2 = infomap.Infomap(flags)\n",
    "    infomap2.network().readInputData(inputFilename)\n",
    "    infomap2.run()\n",
    "    print(\" -> Found {} top modules with codelength {}\".format(infomap2.numTopModules(), infomap2.codelength()))\n",
    "    ftreeFilename = \"../output/{}.ftree\".format(name)\n",
    "    infomap2.writeFlowTree(ftreeFilename)\n",
    "    print(\" -> Wrote .ftree file to '{}'\".format(ftreeFilename))"
   ]
  },
  {
   "cell_type": "code",
   "execution_count": 22,
   "metadata": {},
   "outputs": [
    {
     "name": "stdout",
     "output_type": "stream",
     "text": [
      "Cluster '../output/air2015_1_order_2.net'...\n",
      " -> Found 52 top modules with codelength 7.8669713938144845\n",
      " -> Wrote .ftree file to '../output/air2015_1_order_2.ftree'\n",
      "Cluster '../output/air2015_2_order_2.net'...\n",
      " -> Found 57 top modules with codelength 8.145234079801932\n",
      " -> Wrote .ftree file to '../output/air2015_2_order_2.ftree'\n",
      "Cluster '../output/air2015_3_order_2.net'...\n",
      " -> Found 59 top modules with codelength 8.061404523320338\n",
      " -> Wrote .ftree file to '../output/air2015_3_order_2.ftree'\n",
      "Cluster '../output/air2015_4_order_2.net'...\n",
      " -> Found 54 top modules with codelength 8.036012262799272\n",
      " -> Wrote .ftree file to '../output/air2015_4_order_2.ftree'\n"
     ]
    }
   ],
   "source": [
    "for quarter in [1,2,3,4]:\n",
    "    inputFilename = \"../output/air2015_{}_order_2.net\".format(quarter)\n",
    "    createFlowTree(inputFilename)"
   ]
  },
  {
   "cell_type": "code",
   "execution_count": null,
   "metadata": {},
   "outputs": [],
   "source": []
  }
 ],
 "metadata": {
  "kernelspec": {
   "display_name": "Python 3",
   "language": "python",
   "name": "python3"
  },
  "language_info": {
   "codemirror_mode": {
    "name": "ipython",
    "version": 3
   },
   "file_extension": ".py",
   "mimetype": "text/x-python",
   "name": "python",
   "nbconvert_exporter": "python",
   "pygments_lexer": "ipython3",
   "version": "3.6.5"
  }
 },
 "nbformat": 4,
 "nbformat_minor": 2
}
